{
 "cells": [
  {
   "cell_type": "code",
   "execution_count": 51,
   "id": "951007cd",
   "metadata": {},
   "outputs": [
    {
     "name": "stdout",
     "output_type": "stream",
     "text": [
      "[[ 2.44627839 84.98874978]\n",
      " [90.5447834  68.70675694]\n",
      " [19.94125441 91.12508346]\n",
      " [10.28274528 52.26548183]\n",
      " [67.77625715 82.82711933]\n",
      " [23.70096706 31.45061978]\n",
      " [94.61522552 40.40039042]\n",
      " [35.07707908 98.86478234]\n",
      " [77.48060806 10.8005526 ]\n",
      " [62.33264442  7.35917021]\n",
      " [97.56872453 37.7177924 ]\n",
      " [82.35329629 97.11007313]\n",
      " [77.27062683 13.9840464 ]\n",
      " [78.76766752 67.01973769]\n",
      " [ 4.5569215   8.00804416]\n",
      " [79.02908352 21.28195556]\n",
      " [36.54528887 14.63695352]\n",
      " [97.49652214 35.52722692]\n",
      " [71.40926696  1.47655738]\n",
      " [57.47993433 50.61390231]\n",
      " [76.24731325  5.44732075]\n",
      " [96.76540412 12.361923  ]\n",
      " [97.94536233 31.89432395]\n",
      " [54.6650679  93.16127317]\n",
      " [62.5720313  16.06840395]\n",
      " [67.05164919 60.80118088]\n",
      " [80.00918336 33.86709275]\n",
      " [38.69449933 69.26497772]\n",
      " [44.72465497 39.59531033]\n",
      " [86.69572988 39.29876043]]\n",
      "['a', 'b', 'c', 'd', 'e', 'f', 'g', 'h', 'i', 'j', 'k', 'l', 'm', 'n', 'o', 'p', 'q', 'r', 's', 't', 'u', 'v', 'w', 'x', 'y', 'z', 'aa', 'ab', 'ac', 'ad']\n"
     ]
    }
   ],
   "source": [
    "import numpy as np\n",
    "from sklearn.preprocessing import normalize\n",
    "from scipy import spatial\n",
    "\n",
    "#Zufallsmatrix und Beschriftung\n",
    "matrix = np.random.random((30,2)) * 100\n",
    "print(matrix)\n",
    "matrix_labels= [\"a\",\"b\",\"c\",\"d\",\"e\",\"f\",\"g\",\"h\",\"i\",\"j\",\"k\",\"l\",\"m\",\"n\",\"o\",\"p\",\"q\",\"r\",\"s\",\"t\",\"u\",\"v\",\"w\",\"x\",\"y\",\"z\",\"aa\",\"ab\",\"ac\",\"ad\"]\n",
    "print(matrix_labels)"
   ]
  },
  {
   "cell_type": "code",
   "execution_count": 52,
   "id": "76c2da2a",
   "metadata": {},
   "outputs": [
    {
     "name": "stdout",
     "output_type": "stream",
     "text": [
      "[[0.02797824 0.97202176]\n",
      " [0.56856457 0.43143543]\n",
      " [0.17954364 0.82045636]\n",
      " [0.16439707 0.83560293]\n",
      " [0.45003146 0.54996854]\n",
      " [0.42974225 0.57025775]\n",
      " [0.70077246 0.29922754]\n",
      " [0.26188287 0.73811713]\n",
      " [0.87765733 0.12234267]\n",
      " [0.8944041  0.1055959 ]\n",
      " [0.72120065 0.27879935]\n",
      " [0.45888638 0.54111362]\n",
      " [0.84675802 0.15324198]\n",
      " [0.54029131 0.45970869]\n",
      " [0.36266884 0.63733116]\n",
      " [0.78784034 0.21215966]\n",
      " [0.71402282 0.28597718]\n",
      " [0.73292568 0.26707432]\n",
      " [0.9797415  0.0202585 ]\n",
      " [0.53175959 0.46824041]\n",
      " [0.93332095 0.06667905]\n",
      " [0.88672019 0.11327981]\n",
      " [0.75435612 0.24564388]\n",
      " [0.36979247 0.63020753]\n",
      " [0.79567249 0.20432751]\n",
      " [0.524444   0.475556  ]\n",
      " [0.70259747 0.29740253]\n",
      " [0.35841688 0.64158312]\n",
      " [0.53041596 0.46958404]\n",
      " [0.68809144 0.31190856]]\n"
     ]
    }
   ],
   "source": [
    "#normalisierte Matrix\n",
    "normed_matrix = normalize(matrix, axis=1, norm='l1')\n",
    "print(normed_matrix)"
   ]
  },
  {
   "cell_type": "code",
   "execution_count": 53,
   "id": "c76a2660",
   "metadata": {},
   "outputs": [
    {
     "name": "stdout",
     "output_type": "stream",
     "text": [
      "[0.32184984 0.45603374 0.122181   0.14019887 0.29159076 0.2638457\n",
      " 0.64139818 0.07268016 0.89045351 0.91406415 0.67011948 0.3037549\n",
      " 0.8469004  0.41657903 0.17432307 0.76390083 0.66002602 0.68661083\n",
      " 1.03442995 0.40469363 0.96894532 0.90323042 0.7167637  0.18357688\n",
      " 0.77493028 0.39451111 0.64396346 0.16884443 0.40282281 0.62357695]\n"
     ]
    }
   ],
   "source": [
    "#Distanzen zu einem Punkt\n",
    "single_point = [0.3, 0.8]\n",
    "dist = (normed_matrix - single_point)**2\n",
    "dist = np.sum(dist, axis=1)\n",
    "dist = np.sqrt(dist)\n",
    "print(dist)"
   ]
  },
  {
   "cell_type": "code",
   "execution_count": 54,
   "id": "5773e8b3",
   "metadata": {},
   "outputs": [
    {
     "name": "stdout",
     "output_type": "stream",
     "text": [
      "0.1401988701234061\n"
     ]
    }
   ],
   "source": [
    "#Einfache Distanzberechnung\n",
    "def distance(instance1, instance2):\n",
    "    instance1 = np.array(instance1) \n",
    "    instance2 = np.array(instance2)\n",
    "    \n",
    "    return np.linalg.norm(instance1 - instance2)\n",
    "\n",
    "print(distance(normed_matrix[3], single_point))"
   ]
  },
  {
   "cell_type": "code",
   "execution_count": 55,
   "id": "82192b60",
   "metadata": {},
   "outputs": [
    {
     "name": "stdout",
     "output_type": "stream",
     "text": [
      "[1.03442995 0.96894532 0.91406415 0.90323042 0.89045351 0.8469004\n",
      " 0.77493028 0.76390083 0.7167637  0.68661083 0.67011948 0.66002602\n",
      " 0.64396346 0.64139818 0.62357695 0.45603374 0.41657903 0.40469363\n",
      " 0.40282281 0.39451111 0.32184984 0.3037549  0.29159076 0.2638457\n",
      " 0.18357688 0.17432307 0.16884443 0.14019887 0.122181   0.07268016]\n"
     ]
    }
   ],
   "source": [
    "#Absteigend sortierte Distanzen\n",
    "sorted_array = np.sort(dist)\n",
    "reverse_array = sorted_array[::-1]\n",
    "print(reverse_array)"
   ]
  },
  {
   "cell_type": "code",
   "execution_count": 56,
   "id": "4d4c9000",
   "metadata": {},
   "outputs": [
    {
     "name": "stdout",
     "output_type": "stream",
     "text": [
      "0.072680156838752\n"
     ]
    }
   ],
   "source": [
    "#kleinste Distanz\n",
    "tree = spatial.cKDTree(normed_matrix)\n",
    "mindist, minid = tree.query(single_point)\n",
    "print(mindist)"
   ]
  },
  {
   "cell_type": "code",
   "execution_count": 57,
   "id": "db2e977b",
   "metadata": {},
   "outputs": [
    {
     "name": "stdout",
     "output_type": "stream",
     "text": [
      "[(array([0.26188287, 0.73811713]), 0.072680156838752, 'h'), (array([0.17954364, 0.82045636]), 0.12218100407795793, 'c'), (array([0.16439707, 0.83560293]), 0.1401988701234061, 'd'), (array([0.35841688, 0.64158312]), 0.16884442939373945, 'ab'), (array([0.36266884, 0.63733116]), 0.17432307423872656, 'o')]\n"
     ]
    }
   ],
   "source": [
    "#5 Nachbarn\n",
    "def get_neighbors(training_set,\n",
    "                  test_instance, \n",
    "                  labels,\n",
    "                  k, \n",
    "                  distance=distance):\n",
    "    distances = []\n",
    "    for index in range(len(training_set)):\n",
    "        dist = distance(test_instance, training_set[index])\n",
    "        distances.append((training_set[index], dist, labels[index]))\n",
    "    distances.sort(key=lambda x: x[1])\n",
    "    neighbors = distances[:k]\n",
    "    return neighbors\n",
    "\n",
    "neighbors = get_neighbors(normed_matrix, \n",
    "                              single_point, \n",
    "                              matrix_labels,\n",
    "                              5, \n",
    "                              distance=distance)\n",
    "print(neighbors)"
   ]
  },
  {
   "cell_type": "code",
   "execution_count": 58,
   "id": "451d6208",
   "metadata": {},
   "outputs": [
    {
     "data": {
      "text/plain": [
       "'h'"
      ]
     },
     "execution_count": 58,
     "metadata": {},
     "output_type": "execute_result"
    }
   ],
   "source": [
    "#Beispiel Vote\n",
    "from collections import Counter\n",
    "def vote(neighbors):\n",
    "    class_counter = Counter()\n",
    "    for neighbor in neighbors:\n",
    "        class_counter[neighbor[2]] += 1\n",
    "    return class_counter.most_common(1)[0][0]\n",
    "\n",
    "vote(neighbors)"
   ]
  }
 ],
 "metadata": {
  "kernelspec": {
   "display_name": "Python 3",
   "language": "python",
   "name": "python3"
  },
  "language_info": {
   "codemirror_mode": {
    "name": "ipython",
    "version": 3
   },
   "file_extension": ".py",
   "mimetype": "text/x-python",
   "name": "python",
   "nbconvert_exporter": "python",
   "pygments_lexer": "ipython3",
   "version": "3.8.8"
  }
 },
 "nbformat": 4,
 "nbformat_minor": 5
}
