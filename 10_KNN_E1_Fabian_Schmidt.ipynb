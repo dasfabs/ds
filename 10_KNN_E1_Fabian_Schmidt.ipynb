{
 "cells": [
  {
   "cell_type": "code",
   "execution_count": 8,
   "id": "26af8081",
   "metadata": {},
   "outputs": [
    {
     "name": "stdout",
     "output_type": "stream",
     "text": [
      "[[0.95007411 0.18560194]\n",
      " [0.68848433 0.55016383]\n",
      " [0.20603002 0.25831868]\n",
      " [0.68500755 0.9112885 ]\n",
      " [0.42359159 0.12150868]\n",
      " [0.05077492 0.71473793]\n",
      " [0.1016212  0.81075793]\n",
      " [0.3148698  0.1528547 ]\n",
      " [0.41484199 0.91162184]\n",
      " [0.78864031 0.62387182]\n",
      " [0.6381499  0.31248865]\n",
      " [0.42379659 0.03202246]\n",
      " [0.36699173 0.96941959]\n",
      " [0.36713166 0.03214443]\n",
      " [0.30288383 0.51786913]\n",
      " [0.34673543 0.20765582]\n",
      " [0.58545895 0.53775868]\n",
      " [0.11129242 0.99427007]\n",
      " [0.94425037 0.68944982]\n",
      " [0.73735752 0.94113855]\n",
      " [0.14313773 0.09505461]\n",
      " [0.71170611 0.71837304]\n",
      " [0.87626312 0.05962182]\n",
      " [0.19110429 0.19856298]\n",
      " [0.95284217 0.19510488]\n",
      " [0.38609785 0.52386593]\n",
      " [0.33278775 0.78881804]\n",
      " [0.16169883 0.20137477]\n",
      " [0.40004696 0.69661249]\n",
      " [0.55734218 0.63772873]]\n"
     ]
    }
   ],
   "source": [
    "import numpy as np\n",
    "from sklearn.preprocessing import normalize\n",
    "from scipy import spatial\n",
    "\n",
    "#Zufallsmatrix\n",
    "matrix = np.random.random((30,2))\n",
    "print(matrix)"
   ]
  },
  {
   "cell_type": "code",
   "execution_count": 9,
   "id": "ccd07388",
   "metadata": {},
   "outputs": [
    {
     "name": "stdout",
     "output_type": "stream",
     "text": [
      "[[0.8365714  0.1634286 ]\n",
      " [0.55583527 0.44416473]\n",
      " [0.44369677 0.55630323]\n",
      " [0.42912313 0.57087687]\n",
      " [0.7770893  0.2229107 ]\n",
      " [0.06632798 0.93367202]\n",
      " [0.11138046 0.88861954]\n",
      " [0.67319501 0.32680499]\n",
      " [0.31274278 0.68725722]\n",
      " [0.55832463 0.44167537]\n",
      " [0.67128552 0.32871448]\n",
      " [0.92974743 0.07025257]\n",
      " [0.27460986 0.72539014]\n",
      " [0.91949323 0.08050677]\n",
      " [0.36903167 0.63096833]\n",
      " [0.62543453 0.37456547]\n",
      " [0.52123376 0.47876624]\n",
      " [0.10066588 0.89933412]\n",
      " [0.57798265 0.42201735]\n",
      " [0.43929654 0.56070346]\n",
      " [0.60093338 0.39906662]\n",
      " [0.49766904 0.50233096]\n",
      " [0.93629364 0.06370636]\n",
      " [0.49042941 0.50957059]\n",
      " [0.83004017 0.16995983]\n",
      " [0.42430024 0.57569976]\n",
      " [0.29670652 0.70329348]\n",
      " [0.44536102 0.55463898]\n",
      " [0.36478686 0.63521314]\n",
      " [0.46636746 0.53363254]]\n"
     ]
    }
   ],
   "source": [
    "#normalisierte Matrix\n",
    "normed_matrix = normalize(matrix, axis=1, norm='l1')\n",
    "print(normed_matrix)"
   ]
  },
  {
   "cell_type": "code",
   "execution_count": 10,
   "id": "1ab64b20",
   "metadata": {},
   "outputs": [
    {
     "name": "stdout",
     "output_type": "stream",
     "text": [
      "[0.83254551 0.4382584  0.2829079  0.26300226 0.74876316 0.26920405\n",
      " 0.20840047 0.60265084 0.11346063 0.44173312 0.59996915 0.96390515\n",
      " 0.07881174 0.94944319 0.18258443 0.5356325  0.39004552 0.22271363\n",
      " 0.46919638 0.27688692 0.50130676 0.35732325 0.97313818 0.34729325\n",
      " 0.8233427  0.25643936 0.09676258 0.2851874  0.1770651  0.31405374]\n"
     ]
    }
   ],
   "source": [
    "#Distanzen zu einem Punkt\n",
    "single_point = [0.3, 0.8]\n",
    "dist = (normed_matrix - single_point)**2\n",
    "dist = np.sum(dist, axis=1)\n",
    "dist = np.sqrt(dist)\n",
    "print(dist)"
   ]
  },
  {
   "cell_type": "code",
   "execution_count": 12,
   "id": "9c335320",
   "metadata": {},
   "outputs": [
    {
     "name": "stdout",
     "output_type": "stream",
     "text": [
      "[0.97313818 0.96390515 0.94944319 0.83254551 0.8233427  0.74876316\n",
      " 0.60265084 0.59996915 0.5356325  0.50130676 0.46919638 0.44173312\n",
      " 0.4382584  0.39004552 0.35732325 0.34729325 0.31405374 0.2851874\n",
      " 0.2829079  0.27688692 0.26920405 0.26300226 0.25643936 0.22271363\n",
      " 0.20840047 0.18258443 0.1770651  0.11346063 0.09676258 0.07881174]\n"
     ]
    }
   ],
   "source": [
    "#Absteigend sortierte Distanzen\n",
    "sorted_array = np.sort(dist)\n",
    "reverse_array = sorted_array[::-1]\n",
    "print(reverse_array)"
   ]
  },
  {
   "cell_type": "code",
   "execution_count": 13,
   "id": "f2975f21",
   "metadata": {},
   "outputs": [
    {
     "name": "stdout",
     "output_type": "stream",
     "text": [
      "0.0788117427920095\n"
     ]
    }
   ],
   "source": [
    "#kleinste Distanz\n",
    "tree = spatial.cKDTree(normed_matrix)\n",
    "mindist, minid = tree.query(single_point)\n",
    "print(mindist)"
   ]
  },
  {
   "cell_type": "code",
   "execution_count": null,
   "id": "3d686eb0",
   "metadata": {},
   "outputs": [],
   "source": []
  },
  {
   "cell_type": "code",
   "execution_count": null,
   "id": "924e26c4",
   "metadata": {},
   "outputs": [],
   "source": []
  }
 ],
 "metadata": {
  "kernelspec": {
   "display_name": "Python 3",
   "language": "python",
   "name": "python3"
  },
  "language_info": {
   "codemirror_mode": {
    "name": "ipython",
    "version": 3
   },
   "file_extension": ".py",
   "mimetype": "text/x-python",
   "name": "python",
   "nbconvert_exporter": "python",
   "pygments_lexer": "ipython3",
   "version": "3.8.8"
  }
 },
 "nbformat": 4,
 "nbformat_minor": 5
}
